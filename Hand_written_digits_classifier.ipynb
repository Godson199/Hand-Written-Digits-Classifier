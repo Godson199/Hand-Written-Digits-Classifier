{
 "cells": [
  {
   "cell_type": "markdown",
   "id": "c918bb91-f0fd-4277-9142-66805a27a041",
   "metadata": {},
   "source": [
    "#### Hand Written Digits Classsification"
   ]
  },
  {
   "cell_type": "code",
   "execution_count": 1,
   "id": "13cb73e2-29ae-4612-85a8-2c70eb769326",
   "metadata": {
    "tags": []
   },
   "outputs": [],
   "source": [
    "# importing libraries\n",
    "import numpy as np\n",
    "import tensorflow as tf\n",
    "from tensorflow import keras\n",
    "import matplotlib.pyplot as plt\n",
    "import seaborn as sns; sns.set()\n",
    "\n",
    "import warnings\n",
    "warnings.filterwarnings(\"ignore\")\n",
    "\n",
    "%matplotlib inline"
   ]
  },
  {
   "cell_type": "code",
   "execution_count": 17,
   "id": "2b2b66cf-afaa-4f68-9303-62ac1e98e60d",
   "metadata": {},
   "outputs": [
    {
     "data": {
      "text/plain": [
       "[PhysicalDevice(name='/physical_device:CPU:0', device_type='CPU')]"
      ]
     },
     "execution_count": 17,
     "metadata": {},
     "output_type": "execute_result"
    }
   ],
   "source": [
    "tf.config.experimental.list_physical_devices()"
   ]
  },
  {
   "cell_type": "code",
   "execution_count": 2,
   "id": "89530524-d66b-4126-9b92-b6937875b861",
   "metadata": {},
   "outputs": [
    {
     "name": "stdout",
     "output_type": "stream",
     "text": [
      "Train data: (60000, 28, 28), (60000,)\n",
      "Test data: (10000, 28, 28), (10000,)\n"
     ]
    }
   ],
   "source": [
    "# Load data\n",
    "mnist = keras.datasets.mnist\n",
    "(train_images, train_labels), (test_images, test_labels) = mnist.load_data()\n",
    "\n",
    "print(\"Train data: {}, {}\".format(train_images.shape, train_labels.shape))\n",
    "print(\"Test data: {}, {}\".format(test_images.shape, test_labels.shape))"
   ]
  },
  {
   "cell_type": "code",
   "execution_count": 3,
   "id": "71d05177-39e1-4cb2-8660-8bd4fb73e1d2",
   "metadata": {},
   "outputs": [
    {
     "name": "stdout",
     "output_type": "stream",
     "text": [
      "There are 10 classes in the dataset. They are: [0 1 2 3 4 5 6 7 8 9]\n"
     ]
    }
   ],
   "source": [
    "# Check unique values\n",
    "class_labels = np.unique(train_labels)\n",
    "print(\"There are {} classes in the dataset. They are: {}\".format(len(class_labels), class_labels))"
   ]
  },
  {
   "cell_type": "code",
   "execution_count": 4,
   "id": "2abcf129-5bb5-41f8-b922-0d9f8876628e",
   "metadata": {},
   "outputs": [
    {
     "data": {
      "text/plain": [
       "Text(0.5, 1.0, 'Label: 9')"
      ]
     },
     "execution_count": 4,
     "metadata": {},
     "output_type": "execute_result"
    },
    {
     "data": {
      "image/png": "[encoded data removed]",
      "text/plain": [
       "<Figure size 576x360 with 3 Axes>"
      ]
     },
     "metadata": {
      "needs_background": "light"
     },
     "output_type": "display_data"
    }
   ],
   "source": [
    "#Visualize the data\n",
    "plt.figure(figsize=(8, 5))\n",
    "\n",
    "plt.subplot(1,3,1)\n",
    "plt.imshow(train_images[0])\n",
    "plt.title(\"Label: {}\".format(train_labels[0]))\n",
    "\n",
    "plt.subplot(1,3,2)\n",
    "plt.imshow(train_images[2500])\n",
    "plt.title(\"Label: {}\".format(train_labels[2500]))\n",
    "\n",
    "plt.subplot(1,3,3)\n",
    "plt.imshow(test_images[12])\n",
    "plt.title(\"Label: {}\".format(test_labels[12]))"
   ]
  },
  {
   "cell_type": "code",
   "execution_count": 5,
   "id": "4beb71b5-3368-499b-818c-3c962e3d9b66",
   "metadata": {},
   "outputs": [
    {
     "name": "stdout",
     "output_type": "stream",
     "text": [
      "x_train: (50000, 28, 28)\n",
      "x_val: (10000, 28, 28)\n",
      "y_train: (50000,)\n",
      "y_val: (10000,)\n"
     ]
    }
   ],
   "source": [
    "# Scale the data\n",
    "# As usual, we scale our dataset to range between 0 and 1. In this dataset, the pixel values\n",
    "# Dividing the data by 255 scales to the required range\n",
    "\n",
    "train_images = train_images/255.0\n",
    "test_images = test_images/255.0\n",
    "\n",
    "#Split training data to training and validation sets\n",
    "\n",
    "x_train = train_images[0:50000]\n",
    "x_val = train_images[50000:]\n",
    "y_train = train_labels[0:50000]\n",
    "y_val = train_labels[50000:]\n",
    "\n",
    "print(\"x_train: {}\".format(x_train.shape))\n",
    "print(\"x_val: {}\".format(x_val.shape))\n",
    "print(\"y_train: {}\".format(y_train.shape))\n",
    "print(\"y_val: {}\".format(y_val.shape))"
   ]
  },
  {
   "cell_type": "markdown",
   "id": "c8913766-837c-413e-9b32-d52470fc6917",
   "metadata": {},
   "source": [
    "#Reshape data from 28 * 28 array to a single array\n",
    "\n",
    "new_dimension = np.prod(train_images.shape[1:])\n",
    "print(new_dimension)\n",
    "\n",
    "x_train = x_train.reshape(x_train.shape[0], new_dimension)\n",
    "x_val = x_val.reshape(x_val.shape[0], new_dimension)\n",
    "test_images = test_images.reshape(test_images.shape[0], new_dimension)\n",
    "\n",
    "print(\"x_train: {}\".format(x_train.shape))\n",
    "print(\"x_val: {}\".format(x_val.shape))\n",
    "print(\"test_images: {}\".format(test_images.shape))\n",
    "                          "
   ]
  },
  {
   "cell_type": "code",
   "execution_count": 10,
   "id": "8e7cb92a-503e-4b17-a4e9-a977ef0d2863",
   "metadata": {},
   "outputs": [
    {
     "name": "stdout",
     "output_type": "stream",
     "text": [
      "(28, 28)\n"
     ]
    }
   ],
   "source": [
    "print(train_images.shape[1:]) "
   ]
  },
  {
   "cell_type": "code",
   "execution_count": 11,
   "id": "428f719c-20f0-48a8-b3d3-0b5e3ffc6a88",
   "metadata": {},
   "outputs": [
    {
     "name": "stdout",
     "output_type": "stream",
     "text": [
      "50000\n"
     ]
    }
   ],
   "source": [
    "print(x_train.shape[0])"
   ]
  },
  {
   "cell_type": "code",
   "execution_count": 12,
   "id": "569dfe33-0153-47c9-b739-42f52edf4b27",
   "metadata": {},
   "outputs": [],
   "source": [
    "# Encode labels to categorical variables\n",
    "from tensorflow.keras.utils import to_categorical\n",
    "\n",
    "no_of_labels = 10\n",
    "y_train = to_categorical(y_train, no_of_labels)\n",
    "y_val = to_categorical(y_val, no_of_labels)\n",
    "y_test = to_categorical(test_labels, no_of_labels)"
   ]
  },
  {
   "cell_type": "code",
   "execution_count": null,
   "id": "32753b82-c35b-4ec9-97d5-dbd2a6582b3e",
   "metadata": {},
   "outputs": [],
   "source": [
    "#Activation functions and Neural Networks hyperparameters\n",
    "\n",
    "X = tf.placeholder(tf.float32, [None, new_dimension])\n",
    "X = tf.placeholder(tf.float32, [None, no_of_labels])\n",
    "\n",
    "#create model architecture\n",
    "def multilayer_perceptron(x, no_classes, first_layer"
   ]
  },
  {
   "cell_type": "markdown",
   "id": "1a82fffb-2172-44e2-81ce-3017ad54bd98",
   "metadata": {},
   "source": [
    "### Modelling"
   ]
  },
  {
   "cell_type": "code",
   "execution_count": 12,
   "id": "55480335-9526-4797-b69b-21413238d5b2",
   "metadata": {},
   "outputs": [
    {
     "name": "stdout",
     "output_type": "stream",
     "text": [
      "Epoch 1/10\n",
      "1563/1563 [==============================] - 7s 4ms/step - loss: 0.3042 - accuracy: 0.9144\n",
      "Epoch 2/10\n",
      "1563/1563 [==============================] - 7s 4ms/step - loss: 0.1406 - accuracy: 0.9584\n",
      "Epoch 3/10\n",
      "1563/1563 [==============================] - 7s 4ms/step - loss: 0.0976 - accuracy: 0.9714\n",
      "Epoch 4/10\n",
      "1563/1563 [==============================] - 6s 4ms/step - loss: 0.0723 - accuracy: 0.9783\n",
      "Epoch 5/10\n",
      "1563/1563 [==============================] - 7s 4ms/step - loss: 0.0558 - accuracy: 0.9827\n",
      "Epoch 6/10\n",
      "1563/1563 [==============================] - 7s 5ms/step - loss: 0.0450 - accuracy: 0.9858\n",
      "Epoch 7/10\n",
      "1563/1563 [==============================] - 6s 4ms/step - loss: 0.0354 - accuracy: 0.9891\n",
      "Epoch 8/10\n",
      "1563/1563 [==============================] - 6s 4ms/step - loss: 0.0300 - accuracy: 0.9911\n",
      "Epoch 9/10\n",
      "1563/1563 [==============================] - 6s 4ms/step - loss: 0.0234 - accuracy: 0.9931\n",
      "Epoch 10/10\n",
      "1563/1563 [==============================] - 6s 4ms/step - loss: 0.0205 - accuracy: 0.9939\n"
     ]
    },
    {
     "data": {
      "text/plain": [
       "<keras.callbacks.History at 0xb0c75d7a48>"
      ]
     },
     "execution_count": 12,
     "metadata": {},
     "output_type": "execute_result"
    }
   ],
   "source": [
    "model = keras.Sequential([\n",
    "    keras.layers.Flatten(input_shape=(28, 28)),\n",
    "    keras.layers.Dense(100, activation=\"relu\"),\n",
    "    keras.layers.Dense(10, activation=\"sigmoid\")\n",
    "])\n",
    "\n",
    "tb_callback = tf.keras.callbacks.TensorBoard(log_dir=\"logs/\", histogram_freq=1)\n",
    "\n",
    "model.compile(\n",
    "    optimizer=\"adam\",\n",
    "    loss=\"sparse_categorical_crossentropy\",\n",
    "    metrics=[\"accuracy\"]\n",
    ")\n",
    "\n",
    "model.fit(x_train, y_train, epochs=10, callbacks=[tb_callback])"
   ]
  },
  {
   "cell_type": "code",
   "execution_count": 13,
   "id": "df3ffc79-ae56-4099-baf5-0b112a142065",
   "metadata": {},
   "outputs": [
    {
     "name": "stdout",
     "output_type": "stream",
     "text": [
      "The tensorboard extension is already loaded. To reload it, use:\n",
      "  %reload_ext tensorboard\n"
     ]
    },
    {
     "data": {
      "text/html": [
       "\n",
       "      <iframe id=\"tensorboard-frame-72952bad5e44a1ba\" width=\"100%\" height=\"800\" frameborder=\"0\">\n",
       "      </iframe>\n",
       "      <script>\n",
       "        (function() {\n",
       "          const frame = document.getElementById(\"tensorboard-frame-72952bad5e44a1ba\");\n",
       "          const url = new URL(\"/\", window.location);\n",
       "          const port = 6006;\n",
       "          if (port) {\n",
       "            url.port = port;\n",
       "          }\n",
       "          frame.src = url;\n",
       "        })();\n",
       "      </script>\n",
       "    "
      ],
      "text/plain": [
       "<IPython.core.display.HTML object>"
      ]
     },
     "metadata": {},
     "output_type": "display_data"
    }
   ],
   "source": [
    "%load_ext tensorboard\n",
    "%tensorboard --logdir logs/train/fit"
   ]
  },
  {
   "cell_type": "code",
   "execution_count": 16,
   "id": "affa6bb0-5b9b-4a90-97a7-1e61bdef9d4b",
   "metadata": {},
   "outputs": [
    {
     "data": {
      "text/plain": [
       "ERROR: Failed to launch TensorBoard (exited with 1).\n",
       "Contents of stderr:\n",
       "2022-06-20 12:20:00.220605: W tensorflow/stream_executor/platform/default/dso_loader.cc:64] Could not load dynamic library 'cudart64_110.dll'; dlerror: cudart64_110.dll not found\n",
       "2022-06-20 12:20:00.225467: I tensorflow/stream_executor/cuda/cudart_stub.cc:29] Ignore above cudart dlerror if you do not have a GPU set up on your machine.\n",
       "2022-06-20 12:20:04.918369: W tensorflow/stream_executor/platform/default/dso_loader.cc:64] Could not load dynamic library 'nvcuda.dll'; dlerror: nvcuda.dll not found\n",
       "2022-06-20 12:20:04.921784: W tensorflow/stream_executor/cuda/cuda_driver.cc:269] failed call to cuInit: UNKNOWN ERROR (303)\n",
       "2022-06-20 12:20:04.926213: I tensorflow/stream_executor/cuda/cuda_diagnostics.cc:169] retrieving CUDA diagnostic information for host: DELL\n",
       "2022-06-20 12:20:04.926966: I tensorflow/stream_executor/cuda/cuda_diagnostics.cc:176] hostname: DELL\n",
       "\n",
       "***** TensorBoard Uploader *****\n",
       "\n",
       "This will upload your TensorBoard logs to https://tensorboard.dev/ from\n",
       "the following directory:\n",
       "\n",
       "\\logs/fit\n",
       "\n",
       "This TensorBoard will be visible to everyone. Do not upload sensitive\n",
       "data.\n",
       "\n",
       "Your use of this service is subject to Google's Terms of Service\n",
       "<https://policies.google.com/terms> and Privacy Policy\n",
       "<https://policies.google.com/privacy>, and TensorBoard.dev's Terms of Service\n",
       "<https://tensorboard.dev/policy/terms/>.\n",
       "\n",
       "This notice will not be shown again while you are logged into the uploader.\n",
       "To log out, run `tensorboard dev auth revoke`.\n",
       "\n",
       "Traceback (most recent call last):\n",
       "  File \"C:\\Users\\ZURU PC\\anaconda3\\envs\\ML\\lib\\runpy.py\", line 193, in _run_module_as_main\n",
       "    \"__main__\", mod_spec)\n",
       "  File \"C:\\Users\\ZURU PC\\anaconda3\\envs\\ML\\lib\\runpy.py\", line 85, in _run_code\n",
       "    exec(code, run_globals)\n",
       "  File \"C:\\Users\\ZURU PC\\anaconda3\\envs\\ML\\Scripts\\tensorboard.exe\\__main__.py\", line 7, in <module>\n",
       "  File \"C:\\Users\\ZURU PC\\anaconda3\\envs\\ML\\lib\\site-packages\\tensorboard\\main.py\", line 46, in run_main\n",
       "    app.run(tensorboard.main, flags_parser=tensorboard.configure)\n",
       "  File \"C:\\Users\\ZURU PC\\anaconda3\\envs\\ML\\lib\\site-packages\\absl\\app.py\", line 312, in run\n",
       "    _run_main(main, args)\n",
       "  File \"C:\\Users\\ZURU PC\\anaconda3\\envs\\ML\\lib\\site-packages\\absl\\app.py\", line 258, in _run_main\n",
       "    sys.exit(main(argv))\n",
       "  File \"C:\\Users\\ZURU PC\\anaconda3\\envs\\ML\\lib\\site-packages\\tensorboard\\program.py\", line 276, in main\n",
       "    return runner(self.flags) or 0\n",
       "  File \"C:\\Users\\ZURU PC\\anaconda3\\envs\\ML\\lib\\site-packages\\tensorboard\\uploader\\uploader_subcommand.py\", line 657, in run\n",
       "    return _run(flags, self._experiment_url_callback)\n",
       "  File \"C:\\Users\\ZURU PC\\anaconda3\\envs\\ML\\lib\\site-packages\\tensorboard\\uploader\\uploader_subcommand.py\", line 94, in _run\n",
       "    _prompt_for_user_ack(intent)\n",
       "  File \"C:\\Users\\ZURU PC\\anaconda3\\envs\\ML\\lib\\site-packages\\tensorboard\\uploader\\uploader_subcommand.py\", line 67, in _prompt_for_user_ack\n",
       "    response = input(\"Continue? (yes/NO) \")\n",
       "EOFError: EOF when reading a line\n",
       "Contents of stdout:\n",
       "Continue? (yes/NO)"
      ]
     },
     "metadata": {},
     "output_type": "display_data"
    }
   ],
   "source": [
    "tensorboard dev upload --logdir \\\\'logs/fit'"
   ]
  },
  {
   "cell_type": "code",
   "execution_count": 9,
   "id": "a9a4b413-4d76-479d-b010-652fe74e55b7",
   "metadata": {},
   "outputs": [
    {
     "name": "stdout",
     "output_type": "stream",
     "text": [
      "313/313 [==============================] - 1s 2ms/step - loss: 0.0963 - accuracy: 0.9755\n"
     ]
    },
    {
     "data": {
      "text/plain": [
       "[0.09630987793207169, 0.9754999876022339]"
      ]
     },
     "execution_count": 9,
     "metadata": {},
     "output_type": "execute_result"
    }
   ],
   "source": [
    "model.evaluate(x_val, y_val)"
   ]
  },
  {
   "cell_type": "code",
   "execution_count": 15,
   "id": "7a39a3aa-a5f7-4f14-bf7d-dcb8453e07e0",
   "metadata": {},
   "outputs": [
    {
     "data": {
      "text/plain": [
       "array([6.2230229e-03, 5.4246038e-01, 1.0000000e+00, 9.4189447e-01,\n",
       "       1.3684756e-12, 7.7267230e-02, 1.4896214e-02, 2.7585900e-10,\n",
       "       3.9466950e-01, 4.6255527e-10], dtype=float32)"
      ]
     },
     "execution_count": 15,
     "metadata": {},
     "output_type": "execute_result"
    }
   ],
   "source": [
    "y_predicted = model.predict(test_images)\n",
    "y_predicted[1]"
   ]
  },
  {
   "cell_type": "code",
   "execution_count": 16,
   "id": "a9507854-2cac-4e33-ae4e-d68a02473b13",
   "metadata": {},
   "outputs": [
    {
     "data": {
      "text/plain": [
       "[7, 2, 1, 0, 4]"
      ]
     },
     "execution_count": 16,
     "metadata": {},
     "output_type": "execute_result"
    }
   ],
   "source": [
    "y_predicted_labels = [np.argmax(i) for i in y_predicted]\n",
    "y_predicted_labels[:5]"
   ]
  },
  {
   "cell_type": "code",
   "execution_count": 23,
   "id": "3babdbc3-68f6-4e01-9d67-76bf7e4a20bd",
   "metadata": {},
   "outputs": [],
   "source": [
    "cm = tf.math.confusion_matrix(labels=test_labels, predictions=y_predicted_labels)"
   ]
  },
  {
   "cell_type": "code",
   "execution_count": 24,
   "id": "369da3b5-7377-4c6f-965a-3bfbc4903127",
   "metadata": {},
   "outputs": [
    {
     "data": {
      "text/plain": [
       "Text(66.5, 0.5, 'Truth')"
      ]
     },
     "execution_count": 24,
     "metadata": {},
     "output_type": "execute_result"
    },
    {
     "data": {
      "image/png": "[encoded data removed]",
      "text/plain": [
       "<Figure size 720x504 with 2 Axes>"
      ]
     },
     "metadata": {
      "needs_background": "light"
     },
     "output_type": "display_data"
    }
   ],
   "source": [
    "plt.figure(figsize = (10, 7))\n",
    "sns.heatmap(cm, annot=True, fmt=\"d\")\n",
    "plt.xlabel(\"Predicted\")\n",
    "plt.ylabel(\"Truth\")"
   ]
  },
  {
   "cell_type": "code",
   "execution_count": null,
   "id": "ec6a265d-e115-43ea-b9dd-b4dceec5678b",
   "metadata": {},
   "outputs": [],
   "source": []
  }
 ],
 "metadata": {
  "kernelspec": {
   "display_name": "Python 3 (ipykernel)",
   "language": "python",
   "name": "python3"
  },
  "language_info": {
   "codemirror_mode": {
    "name": "ipython",
    "version": 3
   },
   "file_extension": ".py",
   "mimetype": "text/x-python",
   "name": "python",
   "nbconvert_exporter": "python",
   "pygments_lexer": "ipython3",
   "version": "3.7.11"
  }
 },
 "nbformat": 4,
 "nbformat_minor": 5
}
